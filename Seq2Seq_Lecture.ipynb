{
  "cells": [
    {
      "cell_type": "markdown",
      "metadata": {
        "id": "view-in-github",
        "colab_type": "text"
      },
      "source": [
        "<a href=\"https://colab.research.google.com/github/apester/NLP-deeplearning-specialization/blob/master/Seq2Seq_Lecture.ipynb\" target=\"_parent\"><img src=\"https://colab.research.google.com/assets/colab-badge.svg\" alt=\"Open In Colab\"/></a>"
      ]
    },
    {
      "cell_type": "code",
      "execution_count": null,
      "id": "26b14841",
      "metadata": {
        "colab": {
          "base_uri": "https://localhost:8080/"
        },
        "id": "26b14841",
        "outputId": "e3a2210e-a344-40a7-847a-b4b97585d1b0"
      },
      "outputs": [
        {
          "output_type": "stream",
          "name": "stdout",
          "text": [
            "Output Shape: torch.Size([1, 5, 10])\n"
          ]
        }
      ],
      "source": [
        "\n",
        "# Importing Required Libraries\n",
        "import torch\n",
        "import torch.nn as nn\n",
        "import torch.optim as optim\n",
        "\n",
        "# Define a simple Seq2Seq model\n",
        "class Seq2Seq(nn.Module):\n",
        "    def __init__(self, input_dim, hidden_dim, output_dim):\n",
        "        super(Seq2Seq, self).__init__()\n",
        "        self.encoder = nn.LSTM(input_dim, hidden_dim, batch_first=True)\n",
        "        self.decoder = nn.LSTM(hidden_dim, output_dim, batch_first=True)\n",
        "\n",
        "    def forward(self, x):\n",
        "        _, (hidden, cell) = self.encoder(x)\n",
        "        output, _ = self.decoder(hidden)\n",
        "        return output\n",
        "\n",
        "# Example usage\n",
        "input_dim = 10\n",
        "hidden_dim = 20\n",
        "output_dim = 10\n",
        "model = Seq2Seq(input_dim, hidden_dim, output_dim)\n",
        "\n",
        "# Create dummy input\n",
        "x = torch.randn(5, 10, input_dim)\n",
        "y_pred = model(x)\n",
        "print(\"Output Shape:\", y_pred.shape)\n"
      ]
    },
    {
      "cell_type": "code",
      "source": [],
      "metadata": {
        "id": "DbgWUvMJT7ed"
      },
      "id": "DbgWUvMJT7ed",
      "execution_count": null,
      "outputs": []
    },
    {
      "cell_type": "markdown",
      "id": "559d5f72",
      "metadata": {
        "id": "559d5f72"
      },
      "source": [
        "### BLEU and ROUGE Evaluation"
      ]
    },
    {
      "cell_type": "code",
      "execution_count": null,
      "id": "3fdb9353",
      "metadata": {
        "colab": {
          "base_uri": "https://localhost:8080/"
        },
        "id": "3fdb9353",
        "outputId": "ac44356b-2adb-4713-e997-0bc26dbf62ec"
      },
      "outputs": [
        {
          "output_type": "stream",
          "name": "stdout",
          "text": [
            "Requirement already satisfied: nltk in /usr/local/lib/python3.11/dist-packages (3.9.1)\n",
            "Requirement already satisfied: rouge in /usr/local/lib/python3.11/dist-packages (1.0.1)\n",
            "Requirement already satisfied: click in /usr/local/lib/python3.11/dist-packages (from nltk) (8.1.8)\n",
            "Requirement already satisfied: joblib in /usr/local/lib/python3.11/dist-packages (from nltk) (1.4.2)\n",
            "Requirement already satisfied: regex>=2021.8.3 in /usr/local/lib/python3.11/dist-packages (from nltk) (2024.11.6)\n",
            "Requirement already satisfied: tqdm in /usr/local/lib/python3.11/dist-packages (from nltk) (4.67.1)\n",
            "Requirement already satisfied: six in /usr/local/lib/python3.11/dist-packages (from rouge) (1.17.0)\n",
            "BLEU Score: 8.987727354491445e-155\n",
            "ROUGE Scores: [{'rouge-1': {'r': 1.0, 'p': 0.75, 'f': 0.8571428522448981}, 'rouge-2': {'r': 0.5, 'p': 0.3333333333333333, 'f': 0.39999999520000007}, 'rouge-l': {'r': 1.0, 'p': 0.75, 'f': 0.8571428522448981}}]\n"
          ]
        }
      ],
      "source": [
        "!pip install nltk rouge\n",
        "from nltk.translate.bleu_score import sentence_bleu\n",
        "from rouge import Rouge\n",
        "\n",
        "# Sample reference and candidate translations\n",
        "reference = [['this', 'is', 'a', 'test']]\n",
        "candidate = ['this', 'is', 'test']\n",
        "\n",
        "# BLEU Score\n",
        "bleu_score = sentence_bleu(reference, candidate)\n",
        "print(\"BLEU Score:\", bleu_score)\n",
        "\n",
        "# ROUGE Score\n",
        "rouge = Rouge()\n",
        "scores = rouge.get_scores(\"this is a test\", \"this is test\")\n",
        "print(\"ROUGE Scores:\", scores)\n"
      ]
    }
  ],
  "metadata": {
    "colab": {
      "provenance": [],
      "include_colab_link": true
    },
    "language_info": {
      "name": "python"
    },
    "kernelspec": {
      "name": "python3",
      "display_name": "Python 3"
    }
  },
  "nbformat": 4,
  "nbformat_minor": 5
}